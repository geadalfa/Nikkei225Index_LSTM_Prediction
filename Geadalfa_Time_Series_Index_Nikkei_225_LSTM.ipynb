{
  "nbformat": 4,
  "nbformat_minor": 0,
  "metadata": {
    "colab": {
      "name": "Geadalfa_Time Series_Index Nikkei 225_LSTM.ipynb",
      "provenance": [],
      "collapsed_sections": [],
      "toc_visible": true
    },
    "kernelspec": {
      "display_name": "Python 3",
      "language": "python",
      "name": "python3"
    },
    "language_info": {
      "codemirror_mode": {
        "name": "ipython",
        "version": 3
      },
      "file_extension": ".py",
      "mimetype": "text/x-python",
      "name": "python",
      "nbconvert_exporter": "python",
      "pygments_lexer": "ipython3",
      "version": "3.7.4"
    },
    "accelerator": "TPU"
  },
  "cells": [
    {
      "cell_type": "markdown",
      "metadata": {
        "id": "X-HYUvYmnobU",
        "colab_type": "text"
      },
      "source": [
        "# Import Library"
      ]
    },
    {
      "cell_type": "code",
      "metadata": {
        "colab_type": "code",
        "id": "kMj0nIkKKsiE",
        "colab": {
          "base_uri": "https://localhost:8080/",
          "height": 51
        },
        "outputId": "b0ff14d9-0502-4f16-9452-1308aeda24f9"
      },
      "source": [
        "#library preprocessing\n",
        "import numpy as np # library untuk mengubah gambar menjadi array\n",
        "import pandas as pd # library untuk mengolah data tabel\n",
        "from sklearn.preprocessing import MinMaxScaler # Library untuk normalisasi\n",
        "import zipfile, os # library untuk mendownload zipfile\n",
        "\n",
        "#library visualisasi\n",
        "import matplotlib.pyplot as plt # Library untuk visualisai plot\n",
        "import seaborn as sns # Library untuk visualisai plot lebih bagus\n",
        "\n",
        "#library model\n",
        "import tensorflow as tf # library machine learning dari google untuk memproses dataset\n",
        "from tensorflow.keras.optimizers import RMSprop # mengimport optimizer untuk model\n",
        "from keras.callbacks import ModelCheckpoint # Callback untuk menyimpan model\n",
        "import keras.backend as K # Untuk membuat fungsi R2 Keras\n",
        "\n",
        "#library perhitungan\n",
        "from sklearn.metrics import mean_squared_error # Untuk menggunakan loss mean squared error pada model\n",
        "from sklearn.metrics import r2_score # Untuk menghitung koefisien determinasi"
      ],
      "execution_count": null,
      "outputs": [
        {
          "output_type": "stream",
          "text": [
            "/usr/local/lib/python3.6/dist-packages/statsmodels/tools/_testing.py:19: FutureWarning: pandas.util.testing is deprecated. Use the functions in the public API at pandas.testing instead.\n",
            "  import pandas.util.testing as tm\n"
          ],
          "name": "stderr"
        }
      ]
    },
    {
      "cell_type": "markdown",
      "metadata": {
        "id": "6EksxWkvnr_j",
        "colab_type": "text"
      },
      "source": [
        "# Import Dataset"
      ]
    },
    {
      "cell_type": "markdown",
      "metadata": {
        "id": "9hCc94K3HARP",
        "colab_type": "text"
      },
      "source": [
        "Mendownload Dataset Index Nikkei 225 yang diambil dari Yahoo! finance https://finance.yahoo.com/quote/%5EN225?p=^N225 dan telah dimasukkan ke dalam Dropbox\n",
        "\n",
        "Indeks Nikkei 225 merupakan indeks utama di bursa Tokyo dan dipandang sebagai salah satu barometer penting perekonomian dan pasar saham Jepang. Indeks Nikkei disebut-sebut sama seperti indeks Dow Jones. Indeks ini merupakan indeks tertua di kawasan Asia yang mulai muncul sekitar pada tahun 1950. indeks Nikkei diciptakan oleh surat kabar ekonomi Jepang Nihon Keizai Shimbun."
      ]
    },
    {
      "cell_type": "code",
      "metadata": {
        "id": "mfIX9Wze4ieO",
        "colab_type": "code",
        "colab": {
          "base_uri": "https://localhost:8080/",
          "height": 289
        },
        "outputId": "a18688ba-c17c-4252-bada-b9ccb0546797"
      },
      "source": [
        "# Mendownload dataset menggunakan wget\n",
        "\n",
        "!wget --no-check-certificate \\\n",
        "  https://dl.dropbox.com/s/cgn7tzxx02cbkda/Nikkei225.zip?dl=2 \\\n",
        "  -O /tmp/Nikkei225.zip"
      ],
      "execution_count": null,
      "outputs": [
        {
          "output_type": "stream",
          "text": [
            "--2020-09-01 18:17:48--  https://dl.dropbox.com/s/cgn7tzxx02cbkda/Nikkei225.zip?dl=2\n",
            "Resolving dl.dropbox.com (dl.dropbox.com)... 162.125.3.15, 2620:100:6018:15::a27d:30f\n",
            "Connecting to dl.dropbox.com (dl.dropbox.com)|162.125.3.15|:443... connected.\n",
            "HTTP request sent, awaiting response... 302 Found\n",
            "Location: https://dl.dropboxusercontent.com/s/cgn7tzxx02cbkda/Nikkei225.zip?dl=2 [following]\n",
            "--2020-09-01 18:17:49--  https://dl.dropboxusercontent.com/s/cgn7tzxx02cbkda/Nikkei225.zip?dl=2\n",
            "Resolving dl.dropboxusercontent.com (dl.dropboxusercontent.com)... 162.125.3.15, 2620:100:6018:15::a27d:30f\n",
            "Connecting to dl.dropboxusercontent.com (dl.dropboxusercontent.com)|162.125.3.15|:443... connected.\n",
            "HTTP request sent, awaiting response... 200 OK\n",
            "Length: 202378 (198K) [application/zip]\n",
            "Saving to: ‘/tmp/Nikkei225.zip’\n",
            "\n",
            "/tmp/Nikkei225.zip  100%[===================>] 197.63K  --.-KB/s    in 0.04s   \n",
            "\n",
            "2020-09-01 18:17:49 (5.34 MB/s) - ‘/tmp/Nikkei225.zip’ saved [202378/202378]\n",
            "\n"
          ],
          "name": "stdout"
        }
      ]
    },
    {
      "cell_type": "code",
      "metadata": {
        "id": "206euRlf45sb",
        "colab_type": "code",
        "colab": {}
      },
      "source": [
        "# Mengekstrak folder zip yang telah terdownload\n",
        "local_zip = '/tmp/Nikkei225.zip'\n",
        "zip_ref = zipfile.ZipFile(local_zip, 'r')\n",
        "zip_ref.extractall('/tmp')\n",
        "zip_ref.close()\n",
        " \n",
        "base_dir = '/tmp/Nikkei225'"
      ],
      "execution_count": null,
      "outputs": []
    },
    {
      "cell_type": "markdown",
      "metadata": {
        "id": "4Fjh74VTnxvf",
        "colab_type": "text"
      },
      "source": [
        "# Data Prepocessing"
      ]
    },
    {
      "cell_type": "code",
      "metadata": {
        "colab_type": "code",
        "id": "O8bJDDqYKsmq",
        "colab": {
          "base_uri": "https://localhost:8080/",
          "height": 170
        },
        "outputId": "5bc2d866-7003-49c8-e072-c4956c2620eb"
      },
      "source": [
        "df = pd.read_csv('/tmp/Nikkei225.csv')\n",
        "print(df.shape)\n",
        "print(df.dtypes)"
      ],
      "execution_count": null,
      "outputs": [
        {
          "output_type": "stream",
          "text": [
            "(14317, 7)\n",
            "Date          object\n",
            "Open         float64\n",
            "High         float64\n",
            "Low          float64\n",
            "Close        float64\n",
            "Adj Close    float64\n",
            "Volume       float64\n",
            "dtype: object\n"
          ],
          "name": "stdout"
        }
      ]
    },
    {
      "cell_type": "markdown",
      "metadata": {
        "id": "v7MTQlMAk3Hv",
        "colab_type": "text"
      },
      "source": [
        "Menampilkan 5 Data teratas dari table"
      ]
    },
    {
      "cell_type": "code",
      "metadata": {
        "id": "uDjY8B5r32Vd",
        "colab_type": "code",
        "colab": {
          "base_uri": "https://localhost:8080/",
          "height": 204
        },
        "outputId": "c684fe14-eddb-42d7-d832-0c20c21e4fa9"
      },
      "source": [
        "df.head()"
      ],
      "execution_count": null,
      "outputs": [
        {
          "output_type": "execute_result",
          "data": {
            "text/html": [
              "<div>\n",
              "<style scoped>\n",
              "    .dataframe tbody tr th:only-of-type {\n",
              "        vertical-align: middle;\n",
              "    }\n",
              "\n",
              "    .dataframe tbody tr th {\n",
              "        vertical-align: top;\n",
              "    }\n",
              "\n",
              "    .dataframe thead th {\n",
              "        text-align: right;\n",
              "    }\n",
              "</style>\n",
              "<table border=\"1\" class=\"dataframe\">\n",
              "  <thead>\n",
              "    <tr style=\"text-align: right;\">\n",
              "      <th></th>\n",
              "      <th>Date</th>\n",
              "      <th>Open</th>\n",
              "      <th>High</th>\n",
              "      <th>Low</th>\n",
              "      <th>Close</th>\n",
              "      <th>Adj Close</th>\n",
              "      <th>Volume</th>\n",
              "    </tr>\n",
              "  </thead>\n",
              "  <tbody>\n",
              "    <tr>\n",
              "      <th>0</th>\n",
              "      <td>1965-01-05</td>\n",
              "      <td>1257.719971</td>\n",
              "      <td>1257.719971</td>\n",
              "      <td>1257.719971</td>\n",
              "      <td>1257.719971</td>\n",
              "      <td>1257.719971</td>\n",
              "      <td>0.0</td>\n",
              "    </tr>\n",
              "    <tr>\n",
              "      <th>1</th>\n",
              "      <td>1965-01-06</td>\n",
              "      <td>1263.989990</td>\n",
              "      <td>1263.989990</td>\n",
              "      <td>1263.989990</td>\n",
              "      <td>1263.989990</td>\n",
              "      <td>1263.989990</td>\n",
              "      <td>0.0</td>\n",
              "    </tr>\n",
              "    <tr>\n",
              "      <th>2</th>\n",
              "      <td>1965-01-07</td>\n",
              "      <td>1274.270020</td>\n",
              "      <td>1274.270020</td>\n",
              "      <td>1274.270020</td>\n",
              "      <td>1274.270020</td>\n",
              "      <td>1274.270020</td>\n",
              "      <td>0.0</td>\n",
              "    </tr>\n",
              "    <tr>\n",
              "      <th>3</th>\n",
              "      <td>1965-01-08</td>\n",
              "      <td>1286.430054</td>\n",
              "      <td>1286.430054</td>\n",
              "      <td>1286.430054</td>\n",
              "      <td>1286.430054</td>\n",
              "      <td>1286.430054</td>\n",
              "      <td>0.0</td>\n",
              "    </tr>\n",
              "    <tr>\n",
              "      <th>4</th>\n",
              "      <td>1965-01-11</td>\n",
              "      <td>NaN</td>\n",
              "      <td>NaN</td>\n",
              "      <td>NaN</td>\n",
              "      <td>NaN</td>\n",
              "      <td>NaN</td>\n",
              "      <td>NaN</td>\n",
              "    </tr>\n",
              "  </tbody>\n",
              "</table>\n",
              "</div>"
            ],
            "text/plain": [
              "         Date         Open         High  ...        Close    Adj Close  Volume\n",
              "0  1965-01-05  1257.719971  1257.719971  ...  1257.719971  1257.719971     0.0\n",
              "1  1965-01-06  1263.989990  1263.989990  ...  1263.989990  1263.989990     0.0\n",
              "2  1965-01-07  1274.270020  1274.270020  ...  1274.270020  1274.270020     0.0\n",
              "3  1965-01-08  1286.430054  1286.430054  ...  1286.430054  1286.430054     0.0\n",
              "4  1965-01-11          NaN          NaN  ...          NaN          NaN     NaN\n",
              "\n",
              "[5 rows x 7 columns]"
            ]
          },
          "metadata": {
            "tags": []
          },
          "execution_count": 5
        }
      ]
    },
    {
      "cell_type": "markdown",
      "metadata": {
        "id": "r77yks7Sk65c",
        "colab_type": "text"
      },
      "source": [
        "Menampilkan 5 Data terbawah dari table"
      ]
    },
    {
      "cell_type": "code",
      "metadata": {
        "id": "mU1hMzSD_AqQ",
        "colab_type": "code",
        "colab": {
          "base_uri": "https://localhost:8080/",
          "height": 204
        },
        "outputId": "5cf79967-1c89-4ead-e04f-146d383be7ea"
      },
      "source": [
        "df.tail()"
      ],
      "execution_count": null,
      "outputs": [
        {
          "output_type": "execute_result",
          "data": {
            "text/html": [
              "<div>\n",
              "<style scoped>\n",
              "    .dataframe tbody tr th:only-of-type {\n",
              "        vertical-align: middle;\n",
              "    }\n",
              "\n",
              "    .dataframe tbody tr th {\n",
              "        vertical-align: top;\n",
              "    }\n",
              "\n",
              "    .dataframe thead th {\n",
              "        text-align: right;\n",
              "    }\n",
              "</style>\n",
              "<table border=\"1\" class=\"dataframe\">\n",
              "  <thead>\n",
              "    <tr style=\"text-align: right;\">\n",
              "      <th></th>\n",
              "      <th>Date</th>\n",
              "      <th>Open</th>\n",
              "      <th>High</th>\n",
              "      <th>Low</th>\n",
              "      <th>Close</th>\n",
              "      <th>Adj Close</th>\n",
              "      <th>Volume</th>\n",
              "    </tr>\n",
              "  </thead>\n",
              "  <tbody>\n",
              "    <tr>\n",
              "      <th>14312</th>\n",
              "      <td>2020-08-26</td>\n",
              "      <td>23257.050781</td>\n",
              "      <td>23348.800781</td>\n",
              "      <td>23203.000000</td>\n",
              "      <td>23290.859375</td>\n",
              "      <td>23290.859375</td>\n",
              "      <td>47800.0</td>\n",
              "    </tr>\n",
              "    <tr>\n",
              "      <th>14313</th>\n",
              "      <td>2020-08-27</td>\n",
              "      <td>23311.039063</td>\n",
              "      <td>23323.070313</td>\n",
              "      <td>23177.849609</td>\n",
              "      <td>23208.859375</td>\n",
              "      <td>23208.859375</td>\n",
              "      <td>52700.0</td>\n",
              "    </tr>\n",
              "    <tr>\n",
              "      <th>14314</th>\n",
              "      <td>2020-08-28</td>\n",
              "      <td>23232.300781</td>\n",
              "      <td>23376.130859</td>\n",
              "      <td>22594.789063</td>\n",
              "      <td>22882.650391</td>\n",
              "      <td>22882.650391</td>\n",
              "      <td>98100.0</td>\n",
              "    </tr>\n",
              "    <tr>\n",
              "      <th>14315</th>\n",
              "      <td>2020-08-31</td>\n",
              "      <td>23147.140625</td>\n",
              "      <td>23342.320313</td>\n",
              "      <td>23102.609375</td>\n",
              "      <td>23139.759766</td>\n",
              "      <td>23139.759766</td>\n",
              "      <td>81000.0</td>\n",
              "    </tr>\n",
              "    <tr>\n",
              "      <th>14316</th>\n",
              "      <td>2020-09-01</td>\n",
              "      <td>23089.630859</td>\n",
              "      <td>23206.660156</td>\n",
              "      <td>23047.769531</td>\n",
              "      <td>23121.339844</td>\n",
              "      <td>23121.339844</td>\n",
              "      <td>0.0</td>\n",
              "    </tr>\n",
              "  </tbody>\n",
              "</table>\n",
              "</div>"
            ],
            "text/plain": [
              "             Date          Open  ...     Adj Close   Volume\n",
              "14312  2020-08-26  23257.050781  ...  23290.859375  47800.0\n",
              "14313  2020-08-27  23311.039063  ...  23208.859375  52700.0\n",
              "14314  2020-08-28  23232.300781  ...  22882.650391  98100.0\n",
              "14315  2020-08-31  23147.140625  ...  23139.759766  81000.0\n",
              "14316  2020-09-01  23089.630859  ...  23121.339844      0.0\n",
              "\n",
              "[5 rows x 7 columns]"
            ]
          },
          "metadata": {
            "tags": []
          },
          "execution_count": 6
        }
      ]
    },
    {
      "cell_type": "code",
      "metadata": {
        "id": "XSaCUseGlnS5",
        "colab_type": "code",
        "colab": {
          "base_uri": "https://localhost:8080/",
          "height": 255
        },
        "outputId": "0a117dc8-5e95-4a3c-941c-c5467e187798"
      },
      "source": [
        "# Melihat informasi dari table dan terdapat 14.317 sample\n",
        "\n",
        "df.info()"
      ],
      "execution_count": null,
      "outputs": [
        {
          "output_type": "stream",
          "text": [
            "<class 'pandas.core.frame.DataFrame'>\n",
            "RangeIndex: 14317 entries, 0 to 14316\n",
            "Data columns (total 7 columns):\n",
            " #   Column     Non-Null Count  Dtype  \n",
            "---  ------     --------------  -----  \n",
            " 0   Date       14317 non-null  object \n",
            " 1   Open       13691 non-null  float64\n",
            " 2   High       13691 non-null  float64\n",
            " 3   Low        13691 non-null  float64\n",
            " 4   Close      13691 non-null  float64\n",
            " 5   Adj Close  13691 non-null  float64\n",
            " 6   Volume     13691 non-null  float64\n",
            "dtypes: float64(6), object(1)\n",
            "memory usage: 783.1+ KB\n"
          ],
          "name": "stdout"
        }
      ]
    },
    {
      "cell_type": "code",
      "metadata": {
        "colab_type": "code",
        "id": "aeT6yxAkKsp4",
        "colab": {
          "base_uri": "https://localhost:8080/",
          "height": 153
        },
        "outputId": "174d3f96-de57-4ef3-9b85-60f17dc1d701"
      },
      "source": [
        "# Melihat jumlah sampel yang NAN (tidak ada nilainya)\n",
        "df.isna().sum()"
      ],
      "execution_count": null,
      "outputs": [
        {
          "output_type": "execute_result",
          "data": {
            "text/plain": [
              "Date           0\n",
              "Open         626\n",
              "High         626\n",
              "Low          626\n",
              "Close        626\n",
              "Adj Close    626\n",
              "Volume       626\n",
              "dtype: int64"
            ]
          },
          "metadata": {
            "tags": []
          },
          "execution_count": 8
        }
      ]
    },
    {
      "cell_type": "code",
      "metadata": {
        "colab_type": "code",
        "id": "VP260QzFKsrU",
        "colab": {}
      },
      "source": [
        "# Menghapus sample NaN\n",
        "df=df.dropna()"
      ],
      "execution_count": null,
      "outputs": []
    },
    {
      "cell_type": "code",
      "metadata": {
        "id": "U5MLHklf32Vk",
        "colab_type": "code",
        "colab": {
          "base_uri": "https://localhost:8080/",
          "height": 272
        },
        "outputId": "9f06a30b-92c9-490a-9a47-b7a3232b6d98"
      },
      "source": [
        "print(df)\n",
        "print(df.shape)"
      ],
      "execution_count": null,
      "outputs": [
        {
          "output_type": "stream",
          "text": [
            "             Date          Open  ...     Adj Close   Volume\n",
            "0      1965-01-05   1257.719971  ...   1257.719971      0.0\n",
            "1      1965-01-06   1263.989990  ...   1263.989990      0.0\n",
            "2      1965-01-07   1274.270020  ...   1274.270020      0.0\n",
            "3      1965-01-08   1286.430054  ...   1286.430054      0.0\n",
            "5      1965-01-12   1288.540039  ...   1288.540039      0.0\n",
            "...           ...           ...  ...           ...      ...\n",
            "14312  2020-08-26  23257.050781  ...  23290.859375  47800.0\n",
            "14313  2020-08-27  23311.039063  ...  23208.859375  52700.0\n",
            "14314  2020-08-28  23232.300781  ...  22882.650391  98100.0\n",
            "14315  2020-08-31  23147.140625  ...  23139.759766  81000.0\n",
            "14316  2020-09-01  23089.630859  ...  23121.339844      0.0\n",
            "\n",
            "[13691 rows x 7 columns]\n",
            "(13691, 7)\n"
          ],
          "name": "stdout"
        }
      ]
    },
    {
      "cell_type": "code",
      "metadata": {
        "id": "rYC7996U4SMw",
        "colab_type": "code",
        "colab": {}
      },
      "source": [
        "# Merubah tipe data kolom 'Date' menjadi 'datetime'\n",
        "df['Date'] = pd.to_datetime(df['Date'])"
      ],
      "execution_count": null,
      "outputs": []
    },
    {
      "cell_type": "code",
      "metadata": {
        "colab_type": "code",
        "id": "OcJ92-BpKssn",
        "colab": {
          "base_uri": "https://localhost:8080/",
          "height": 204
        },
        "outputId": "6b23300a-69d9-4363-a478-e23b9e9748f4"
      },
      "source": [
        "df.head()"
      ],
      "execution_count": null,
      "outputs": [
        {
          "output_type": "execute_result",
          "data": {
            "text/html": [
              "<div>\n",
              "<style scoped>\n",
              "    .dataframe tbody tr th:only-of-type {\n",
              "        vertical-align: middle;\n",
              "    }\n",
              "\n",
              "    .dataframe tbody tr th {\n",
              "        vertical-align: top;\n",
              "    }\n",
              "\n",
              "    .dataframe thead th {\n",
              "        text-align: right;\n",
              "    }\n",
              "</style>\n",
              "<table border=\"1\" class=\"dataframe\">\n",
              "  <thead>\n",
              "    <tr style=\"text-align: right;\">\n",
              "      <th></th>\n",
              "      <th>Date</th>\n",
              "      <th>Open</th>\n",
              "      <th>High</th>\n",
              "      <th>Low</th>\n",
              "      <th>Close</th>\n",
              "      <th>Adj Close</th>\n",
              "      <th>Volume</th>\n",
              "    </tr>\n",
              "  </thead>\n",
              "  <tbody>\n",
              "    <tr>\n",
              "      <th>0</th>\n",
              "      <td>1965-01-05</td>\n",
              "      <td>1257.719971</td>\n",
              "      <td>1257.719971</td>\n",
              "      <td>1257.719971</td>\n",
              "      <td>1257.719971</td>\n",
              "      <td>1257.719971</td>\n",
              "      <td>0.0</td>\n",
              "    </tr>\n",
              "    <tr>\n",
              "      <th>1</th>\n",
              "      <td>1965-01-06</td>\n",
              "      <td>1263.989990</td>\n",
              "      <td>1263.989990</td>\n",
              "      <td>1263.989990</td>\n",
              "      <td>1263.989990</td>\n",
              "      <td>1263.989990</td>\n",
              "      <td>0.0</td>\n",
              "    </tr>\n",
              "    <tr>\n",
              "      <th>2</th>\n",
              "      <td>1965-01-07</td>\n",
              "      <td>1274.270020</td>\n",
              "      <td>1274.270020</td>\n",
              "      <td>1274.270020</td>\n",
              "      <td>1274.270020</td>\n",
              "      <td>1274.270020</td>\n",
              "      <td>0.0</td>\n",
              "    </tr>\n",
              "    <tr>\n",
              "      <th>3</th>\n",
              "      <td>1965-01-08</td>\n",
              "      <td>1286.430054</td>\n",
              "      <td>1286.430054</td>\n",
              "      <td>1286.430054</td>\n",
              "      <td>1286.430054</td>\n",
              "      <td>1286.430054</td>\n",
              "      <td>0.0</td>\n",
              "    </tr>\n",
              "    <tr>\n",
              "      <th>5</th>\n",
              "      <td>1965-01-12</td>\n",
              "      <td>1288.540039</td>\n",
              "      <td>1288.540039</td>\n",
              "      <td>1288.540039</td>\n",
              "      <td>1288.540039</td>\n",
              "      <td>1288.540039</td>\n",
              "      <td>0.0</td>\n",
              "    </tr>\n",
              "  </tbody>\n",
              "</table>\n",
              "</div>"
            ],
            "text/plain": [
              "        Date         Open         High  ...        Close    Adj Close  Volume\n",
              "0 1965-01-05  1257.719971  1257.719971  ...  1257.719971  1257.719971     0.0\n",
              "1 1965-01-06  1263.989990  1263.989990  ...  1263.989990  1263.989990     0.0\n",
              "2 1965-01-07  1274.270020  1274.270020  ...  1274.270020  1274.270020     0.0\n",
              "3 1965-01-08  1286.430054  1286.430054  ...  1286.430054  1286.430054     0.0\n",
              "5 1965-01-12  1288.540039  1288.540039  ...  1288.540039  1288.540039     0.0\n",
              "\n",
              "[5 rows x 7 columns]"
            ]
          },
          "metadata": {
            "tags": []
          },
          "execution_count": 12
        }
      ]
    },
    {
      "cell_type": "markdown",
      "metadata": {
        "id": "zSzWXtuqoTbx",
        "colab_type": "text"
      },
      "source": [
        "## Visualisasi data Index Nikkei 225\n",
        "\n",
        "\n"
      ]
    },
    {
      "cell_type": "markdown",
      "metadata": {
        "id": "FBdhNkn3rLB_",
        "colab_type": "text"
      },
      "source": [
        "Menampilkan keseluruhan harga pembukaan Nikkei 225 dengan plot visualisasi agar dapat dimengerti oleh orang pembaca"
      ]
    },
    {
      "cell_type": "code",
      "metadata": {
        "colab_type": "code",
        "id": "dN5NHLsZKstf",
        "colab": {
          "base_uri": "https://localhost:8080/",
          "height": 464
        },
        "outputId": "994649ba-68fb-4cf7-9440-8cc3076a6d4e"
      },
      "source": [
        "# Menampilkan visualisasi menggunakan matplotlib dan seaborn\n",
        "plt.figure(figsize=(15,7))\n",
        "sns.set(style=\"whitegrid\")\n",
        "plt.title('Harga Open Index Nikkei 225 per Tahun')\n",
        "sns.lineplot(data=df['Open'], label='Open',color='skyblue')"
      ],
      "execution_count": null,
      "outputs": [
        {
          "output_type": "execute_result",
          "data": {
            "text/plain": [
              "<matplotlib.axes._subplots.AxesSubplot at 0x7fd3baa0add8>"
            ]
          },
          "metadata": {
            "tags": []
          },
          "execution_count": 13
        },
        {
          "output_type": "display_data",
          "data": {
            "image/png": "[encoded data removed]",
            "text/plain": [
              "<Figure size 1080x504 with 1 Axes>"
            ]
          },
          "metadata": {
            "tags": [],
            "needs_background": "light"
          }
        }
      ]
    },
    {
      "cell_type": "code",
      "metadata": {
        "colab_type": "code",
        "id": "-Mxnzfp4KsuY",
        "colab": {
          "base_uri": "https://localhost:8080/",
          "height": 34
        },
        "outputId": "f9efb124-c9ad-43d2-8e13-30915b514022"
      },
      "source": [
        "# Membuat variabel duplikat yang akan digunakan untuk preprocessing\n",
        "df2=df.copy()\n",
        "df2.shape"
      ],
      "execution_count": null,
      "outputs": [
        {
          "output_type": "execute_result",
          "data": {
            "text/plain": [
              "(13691, 7)"
            ]
          },
          "metadata": {
            "tags": []
          },
          "execution_count": 14
        }
      ]
    },
    {
      "cell_type": "markdown",
      "metadata": {
        "id": "dRMAy3LGoa8T",
        "colab_type": "text"
      },
      "source": [
        "## Pembagian Data Train dan Data Test"
      ]
    },
    {
      "cell_type": "markdown",
      "metadata": {
        "id": "XAWMaPxcr1Ww",
        "colab_type": "text"
      },
      "source": [
        "Membagi Dataset dengan rasio 80% Data Train dan 20% Data Test"
      ]
    },
    {
      "cell_type": "code",
      "metadata": {
        "colab_type": "code",
        "id": "eEY3LS7RKsu9",
        "colab": {}
      },
      "source": [
        "df2.reset_index(drop=True,inplace=True)\n",
        "df_train = df2.loc[:int(df2.shape[0]*0.8),:]\n",
        "df_test = df2.loc[int(df2.shape[0]*0.8):,:]"
      ],
      "execution_count": null,
      "outputs": []
    },
    {
      "cell_type": "code",
      "metadata": {
        "colab_type": "code",
        "id": "k1T_5RK4Okp3",
        "colab": {
          "base_uri": "https://localhost:8080/",
          "height": 34
        },
        "outputId": "a6955f79-72a6-419b-eff5-97b99244fb0a"
      },
      "source": [
        "df2.shape"
      ],
      "execution_count": null,
      "outputs": [
        {
          "output_type": "execute_result",
          "data": {
            "text/plain": [
              "(13691, 7)"
            ]
          },
          "metadata": {
            "tags": []
          },
          "execution_count": 16
        }
      ]
    },
    {
      "cell_type": "code",
      "metadata": {
        "colab_type": "code",
        "id": "iFASQIHROh4N",
        "colab": {
          "base_uri": "https://localhost:8080/",
          "height": 34
        },
        "outputId": "d20430d5-8095-4fcf-ad45-9c0b32314536"
      },
      "source": [
        "df_train.shape"
      ],
      "execution_count": null,
      "outputs": [
        {
          "output_type": "execute_result",
          "data": {
            "text/plain": [
              "(10953, 7)"
            ]
          },
          "metadata": {
            "tags": []
          },
          "execution_count": 17
        }
      ]
    },
    {
      "cell_type": "code",
      "metadata": {
        "colab_type": "code",
        "id": "b7Hpx_3xOmGz",
        "colab": {
          "base_uri": "https://localhost:8080/",
          "height": 34
        },
        "outputId": "0c7becca-8247-4999-ddcf-c18b8120afbd"
      },
      "source": [
        "df_test.shape"
      ],
      "execution_count": null,
      "outputs": [
        {
          "output_type": "execute_result",
          "data": {
            "text/plain": [
              "(2739, 7)"
            ]
          },
          "metadata": {
            "tags": []
          },
          "execution_count": 18
        }
      ]
    },
    {
      "cell_type": "code",
      "metadata": {
        "colab_type": "code",
        "id": "gfNuK2MEKsvr",
        "colab": {
          "base_uri": "https://localhost:8080/",
          "height": 464
        },
        "outputId": "ee4bd492-d82e-41e0-d4ae-e82473399407"
      },
      "source": [
        "# Menampilkan pembagian dataset dengan plot visualisasi\n",
        "plt.figure(figsize=(15,7))\n",
        "sns.set(style=\"whitegrid\")\n",
        "plt.title('Data train vs Data test')\n",
        "sns.lineplot(data=df_train['Open'], label='train',color='skyblue')\n",
        "sns.lineplot(data=df_test['Open'], label='test',color='plum')"
      ],
      "execution_count": null,
      "outputs": [
        {
          "output_type": "execute_result",
          "data": {
            "text/plain": [
              "<matplotlib.axes._subplots.AxesSubplot at 0x7fd3b9f15f28>"
            ]
          },
          "metadata": {
            "tags": []
          },
          "execution_count": 19
        },
        {
          "output_type": "display_data",
          "data": {
            "image/png": "[encoded data removed]",
            "text/plain": [
              "<Figure size 1080x504 with 1 Axes>"
            ]
          },
          "metadata": {
            "tags": []
          }
        }
      ]
    },
    {
      "cell_type": "code",
      "metadata": {
        "colab_type": "code",
        "id": "l7_0je9xKswV",
        "colab": {
          "base_uri": "https://localhost:8080/",
          "height": 419
        },
        "outputId": "c6aabf26-a58e-4d0f-b588-a490721d066f"
      },
      "source": [
        "df_train"
      ],
      "execution_count": null,
      "outputs": [
        {
          "output_type": "execute_result",
          "data": {
            "text/html": [
              "<div>\n",
              "<style scoped>\n",
              "    .dataframe tbody tr th:only-of-type {\n",
              "        vertical-align: middle;\n",
              "    }\n",
              "\n",
              "    .dataframe tbody tr th {\n",
              "        vertical-align: top;\n",
              "    }\n",
              "\n",
              "    .dataframe thead th {\n",
              "        text-align: right;\n",
              "    }\n",
              "</style>\n",
              "<table border=\"1\" class=\"dataframe\">\n",
              "  <thead>\n",
              "    <tr style=\"text-align: right;\">\n",
              "      <th></th>\n",
              "      <th>Date</th>\n",
              "      <th>Open</th>\n",
              "      <th>High</th>\n",
              "      <th>Low</th>\n",
              "      <th>Close</th>\n",
              "      <th>Adj Close</th>\n",
              "      <th>Volume</th>\n",
              "    </tr>\n",
              "  </thead>\n",
              "  <tbody>\n",
              "    <tr>\n",
              "      <th>0</th>\n",
              "      <td>1965-01-05</td>\n",
              "      <td>1257.719971</td>\n",
              "      <td>1257.719971</td>\n",
              "      <td>1257.719971</td>\n",
              "      <td>1257.719971</td>\n",
              "      <td>1257.719971</td>\n",
              "      <td>0.0</td>\n",
              "    </tr>\n",
              "    <tr>\n",
              "      <th>1</th>\n",
              "      <td>1965-01-06</td>\n",
              "      <td>1263.989990</td>\n",
              "      <td>1263.989990</td>\n",
              "      <td>1263.989990</td>\n",
              "      <td>1263.989990</td>\n",
              "      <td>1263.989990</td>\n",
              "      <td>0.0</td>\n",
              "    </tr>\n",
              "    <tr>\n",
              "      <th>2</th>\n",
              "      <td>1965-01-07</td>\n",
              "      <td>1274.270020</td>\n",
              "      <td>1274.270020</td>\n",
              "      <td>1274.270020</td>\n",
              "      <td>1274.270020</td>\n",
              "      <td>1274.270020</td>\n",
              "      <td>0.0</td>\n",
              "    </tr>\n",
              "    <tr>\n",
              "      <th>3</th>\n",
              "      <td>1965-01-08</td>\n",
              "      <td>1286.430054</td>\n",
              "      <td>1286.430054</td>\n",
              "      <td>1286.430054</td>\n",
              "      <td>1286.430054</td>\n",
              "      <td>1286.430054</td>\n",
              "      <td>0.0</td>\n",
              "    </tr>\n",
              "    <tr>\n",
              "      <th>4</th>\n",
              "      <td>1965-01-12</td>\n",
              "      <td>1288.540039</td>\n",
              "      <td>1288.540039</td>\n",
              "      <td>1288.540039</td>\n",
              "      <td>1288.540039</td>\n",
              "      <td>1288.540039</td>\n",
              "      <td>0.0</td>\n",
              "    </tr>\n",
              "    <tr>\n",
              "      <th>...</th>\n",
              "      <td>...</td>\n",
              "      <td>...</td>\n",
              "      <td>...</td>\n",
              "      <td>...</td>\n",
              "      <td>...</td>\n",
              "      <td>...</td>\n",
              "      <td>...</td>\n",
              "    </tr>\n",
              "    <tr>\n",
              "      <th>10948</th>\n",
              "      <td>2009-06-16</td>\n",
              "      <td>9914.400391</td>\n",
              "      <td>9941.500000</td>\n",
              "      <td>9752.879883</td>\n",
              "      <td>9752.879883</td>\n",
              "      <td>9752.879883</td>\n",
              "      <td>174600.0</td>\n",
              "    </tr>\n",
              "    <tr>\n",
              "      <th>10949</th>\n",
              "      <td>2009-06-17</td>\n",
              "      <td>9705.730469</td>\n",
              "      <td>9845.519531</td>\n",
              "      <td>9705.730469</td>\n",
              "      <td>9840.849609</td>\n",
              "      <td>9840.849609</td>\n",
              "      <td>179400.0</td>\n",
              "    </tr>\n",
              "    <tr>\n",
              "      <th>10950</th>\n",
              "      <td>2009-06-18</td>\n",
              "      <td>9778.349609</td>\n",
              "      <td>9778.349609</td>\n",
              "      <td>9649.830078</td>\n",
              "      <td>9703.719727</td>\n",
              "      <td>9703.719727</td>\n",
              "      <td>168700.0</td>\n",
              "    </tr>\n",
              "    <tr>\n",
              "      <th>10951</th>\n",
              "      <td>2009-06-19</td>\n",
              "      <td>9757.849609</td>\n",
              "      <td>9822.830078</td>\n",
              "      <td>9703.870117</td>\n",
              "      <td>9786.259766</td>\n",
              "      <td>9786.259766</td>\n",
              "      <td>174900.0</td>\n",
              "    </tr>\n",
              "    <tr>\n",
              "      <th>10952</th>\n",
              "      <td>2009-06-22</td>\n",
              "      <td>9788.070313</td>\n",
              "      <td>9887.129883</td>\n",
              "      <td>9763.370117</td>\n",
              "      <td>9826.269531</td>\n",
              "      <td>9826.269531</td>\n",
              "      <td>149900.0</td>\n",
              "    </tr>\n",
              "  </tbody>\n",
              "</table>\n",
              "<p>10953 rows × 7 columns</p>\n",
              "</div>"
            ],
            "text/plain": [
              "            Date         Open         High  ...        Close    Adj Close    Volume\n",
              "0     1965-01-05  1257.719971  1257.719971  ...  1257.719971  1257.719971       0.0\n",
              "1     1965-01-06  1263.989990  1263.989990  ...  1263.989990  1263.989990       0.0\n",
              "2     1965-01-07  1274.270020  1274.270020  ...  1274.270020  1274.270020       0.0\n",
              "3     1965-01-08  1286.430054  1286.430054  ...  1286.430054  1286.430054       0.0\n",
              "4     1965-01-12  1288.540039  1288.540039  ...  1288.540039  1288.540039       0.0\n",
              "...          ...          ...          ...  ...          ...          ...       ...\n",
              "10948 2009-06-16  9914.400391  9941.500000  ...  9752.879883  9752.879883  174600.0\n",
              "10949 2009-06-17  9705.730469  9845.519531  ...  9840.849609  9840.849609  179400.0\n",
              "10950 2009-06-18  9778.349609  9778.349609  ...  9703.719727  9703.719727  168700.0\n",
              "10951 2009-06-19  9757.849609  9822.830078  ...  9786.259766  9786.259766  174900.0\n",
              "10952 2009-06-22  9788.070313  9887.129883  ...  9826.269531  9826.269531  149900.0\n",
              "\n",
              "[10953 rows x 7 columns]"
            ]
          },
          "metadata": {
            "tags": []
          },
          "execution_count": 20
        }
      ]
    },
    {
      "cell_type": "code",
      "metadata": {
        "colab_type": "code",
        "id": "BmTaT0DLKsxs",
        "colab": {
          "base_uri": "https://localhost:8080/",
          "height": 419
        },
        "outputId": "a44c9e6a-45dc-42d8-c5ca-f5c0fcfa7b9f"
      },
      "source": [
        "df_test"
      ],
      "execution_count": null,
      "outputs": [
        {
          "output_type": "execute_result",
          "data": {
            "text/html": [
              "<div>\n",
              "<style scoped>\n",
              "    .dataframe tbody tr th:only-of-type {\n",
              "        vertical-align: middle;\n",
              "    }\n",
              "\n",
              "    .dataframe tbody tr th {\n",
              "        vertical-align: top;\n",
              "    }\n",
              "\n",
              "    .dataframe thead th {\n",
              "        text-align: right;\n",
              "    }\n",
              "</style>\n",
              "<table border=\"1\" class=\"dataframe\">\n",
              "  <thead>\n",
              "    <tr style=\"text-align: right;\">\n",
              "      <th></th>\n",
              "      <th>Date</th>\n",
              "      <th>Open</th>\n",
              "      <th>High</th>\n",
              "      <th>Low</th>\n",
              "      <th>Close</th>\n",
              "      <th>Adj Close</th>\n",
              "      <th>Volume</th>\n",
              "    </tr>\n",
              "  </thead>\n",
              "  <tbody>\n",
              "    <tr>\n",
              "      <th>10952</th>\n",
              "      <td>2009-06-22</td>\n",
              "      <td>9788.070313</td>\n",
              "      <td>9887.129883</td>\n",
              "      <td>9763.370117</td>\n",
              "      <td>9826.269531</td>\n",
              "      <td>9826.269531</td>\n",
              "      <td>149900.0</td>\n",
              "    </tr>\n",
              "    <tr>\n",
              "      <th>10953</th>\n",
              "      <td>2009-06-23</td>\n",
              "      <td>9695.759766</td>\n",
              "      <td>9712.089844</td>\n",
              "      <td>9511.450195</td>\n",
              "      <td>9549.610352</td>\n",
              "      <td>9549.610352</td>\n",
              "      <td>185600.0</td>\n",
              "    </tr>\n",
              "    <tr>\n",
              "      <th>10954</th>\n",
              "      <td>2009-06-24</td>\n",
              "      <td>9596.780273</td>\n",
              "      <td>9624.410156</td>\n",
              "      <td>9534.240234</td>\n",
              "      <td>9590.320313</td>\n",
              "      <td>9590.320313</td>\n",
              "      <td>153100.0</td>\n",
              "    </tr>\n",
              "    <tr>\n",
              "      <th>10955</th>\n",
              "      <td>2009-06-25</td>\n",
              "      <td>9628.179688</td>\n",
              "      <td>9871.139648</td>\n",
              "      <td>9619.019531</td>\n",
              "      <td>9796.080078</td>\n",
              "      <td>9796.080078</td>\n",
              "      <td>161200.0</td>\n",
              "    </tr>\n",
              "    <tr>\n",
              "      <th>10956</th>\n",
              "      <td>2009-06-26</td>\n",
              "      <td>9852.919922</td>\n",
              "      <td>9893.000000</td>\n",
              "      <td>9793.950195</td>\n",
              "      <td>9877.389648</td>\n",
              "      <td>9877.389648</td>\n",
              "      <td>135800.0</td>\n",
              "    </tr>\n",
              "    <tr>\n",
              "      <th>...</th>\n",
              "      <td>...</td>\n",
              "      <td>...</td>\n",
              "      <td>...</td>\n",
              "      <td>...</td>\n",
              "      <td>...</td>\n",
              "      <td>...</td>\n",
              "      <td>...</td>\n",
              "    </tr>\n",
              "    <tr>\n",
              "      <th>13686</th>\n",
              "      <td>2020-08-26</td>\n",
              "      <td>23257.050781</td>\n",
              "      <td>23348.800781</td>\n",
              "      <td>23203.000000</td>\n",
              "      <td>23290.859375</td>\n",
              "      <td>23290.859375</td>\n",
              "      <td>47800.0</td>\n",
              "    </tr>\n",
              "    <tr>\n",
              "      <th>13687</th>\n",
              "      <td>2020-08-27</td>\n",
              "      <td>23311.039063</td>\n",
              "      <td>23323.070313</td>\n",
              "      <td>23177.849609</td>\n",
              "      <td>23208.859375</td>\n",
              "      <td>23208.859375</td>\n",
              "      <td>52700.0</td>\n",
              "    </tr>\n",
              "    <tr>\n",
              "      <th>13688</th>\n",
              "      <td>2020-08-28</td>\n",
              "      <td>23232.300781</td>\n",
              "      <td>23376.130859</td>\n",
              "      <td>22594.789063</td>\n",
              "      <td>22882.650391</td>\n",
              "      <td>22882.650391</td>\n",
              "      <td>98100.0</td>\n",
              "    </tr>\n",
              "    <tr>\n",
              "      <th>13689</th>\n",
              "      <td>2020-08-31</td>\n",
              "      <td>23147.140625</td>\n",
              "      <td>23342.320313</td>\n",
              "      <td>23102.609375</td>\n",
              "      <td>23139.759766</td>\n",
              "      <td>23139.759766</td>\n",
              "      <td>81000.0</td>\n",
              "    </tr>\n",
              "    <tr>\n",
              "      <th>13690</th>\n",
              "      <td>2020-09-01</td>\n",
              "      <td>23089.630859</td>\n",
              "      <td>23206.660156</td>\n",
              "      <td>23047.769531</td>\n",
              "      <td>23121.339844</td>\n",
              "      <td>23121.339844</td>\n",
              "      <td>0.0</td>\n",
              "    </tr>\n",
              "  </tbody>\n",
              "</table>\n",
              "<p>2739 rows × 7 columns</p>\n",
              "</div>"
            ],
            "text/plain": [
              "            Date          Open  ...     Adj Close    Volume\n",
              "10952 2009-06-22   9788.070313  ...   9826.269531  149900.0\n",
              "10953 2009-06-23   9695.759766  ...   9549.610352  185600.0\n",
              "10954 2009-06-24   9596.780273  ...   9590.320313  153100.0\n",
              "10955 2009-06-25   9628.179688  ...   9796.080078  161200.0\n",
              "10956 2009-06-26   9852.919922  ...   9877.389648  135800.0\n",
              "...          ...           ...  ...           ...       ...\n",
              "13686 2020-08-26  23257.050781  ...  23290.859375   47800.0\n",
              "13687 2020-08-27  23311.039063  ...  23208.859375   52700.0\n",
              "13688 2020-08-28  23232.300781  ...  22882.650391   98100.0\n",
              "13689 2020-08-31  23147.140625  ...  23139.759766   81000.0\n",
              "13690 2020-09-01  23089.630859  ...  23121.339844       0.0\n",
              "\n",
              "[2739 rows x 7 columns]"
            ]
          },
          "metadata": {
            "tags": []
          },
          "execution_count": 21
        }
      ]
    },
    {
      "cell_type": "markdown",
      "metadata": {
        "id": "Eni7j_CxspjD",
        "colab_type": "text"
      },
      "source": [
        "Agar dapat diproses oleh model, kita perlu mengubah nilai-nilai dari dataframe ke dalam tipe data numpy array menggunakan atribut values."
      ]
    },
    {
      "cell_type": "code",
      "metadata": {
        "colab_type": "code",
        "id": "eJqaIeykKsyQ",
        "colab": {
          "base_uri": "https://localhost:8080/",
          "height": 136
        },
        "outputId": "53c42b2f-7f53-4a2d-dc92-52836d4e256a"
      },
      "source": [
        "# Mengubah nilai kolom 'Open' pada DataFrame ke dalam tipe data numpy array\n",
        "training_set = df2.iloc[:, 1:2].values\n",
        "training_set"
      ],
      "execution_count": null,
      "outputs": [
        {
          "output_type": "execute_result",
          "data": {
            "text/plain": [
              "array([[ 1257.719971],\n",
              "       [ 1263.98999 ],\n",
              "       [ 1274.27002 ],\n",
              "       ...,\n",
              "       [23232.300781],\n",
              "       [23147.140625],\n",
              "       [23089.630859]])"
            ]
          },
          "metadata": {
            "tags": []
          },
          "execution_count": 22
        }
      ]
    },
    {
      "cell_type": "markdown",
      "metadata": {
        "id": "gUhkw4sTo7-2",
        "colab_type": "text"
      },
      "source": [
        "## Feature Scaling"
      ]
    },
    {
      "cell_type": "markdown",
      "metadata": {
        "id": "QDE1orqis60D",
        "colab_type": "text"
      },
      "source": [
        "Melakukan feature scaling yaitu suatu cara untuk membuat numerical data pada dataset memiliki rentang nilai (scale) yang sama. Biasa disebut juga normalisasi"
      ]
    },
    {
      "cell_type": "code",
      "metadata": {
        "colab_type": "code",
        "id": "fyBcVQd3KszP",
        "colab": {}
      },
      "source": [
        "# Menormalisasikan nilai sample menjadi nilai dengan rentang 0 sampai 1 untuk dimasukkan ke dalam model\n",
        "sc = MinMaxScaler(feature_range = (0, 1))\n",
        "training_set_scaled = sc.fit_transform(training_set)"
      ],
      "execution_count": null,
      "outputs": []
    },
    {
      "cell_type": "code",
      "metadata": {
        "colab_type": "code",
        "id": "5uSjz9KQYa-G",
        "colab": {
          "base_uri": "https://localhost:8080/",
          "height": 136
        },
        "outputId": "17cd9bd8-620c-4aa2-9191-af962e778f5d"
      },
      "source": [
        "training_set_scaled"
      ],
      "execution_count": null,
      "outputs": [
        {
          "output_type": "execute_result",
          "data": {
            "text/plain": [
              "array([[0.00625917],\n",
              "       [0.00642461],\n",
              "       [0.00669584],\n",
              "       ...,\n",
              "       [0.5860457 ],\n",
              "       [0.5837988 ],\n",
              "       [0.58228143]])"
            ]
          },
          "metadata": {
            "tags": []
          },
          "execution_count": 24
        }
      ]
    },
    {
      "cell_type": "markdown",
      "metadata": {
        "id": "d-_cz9VTpEBl",
        "colab_type": "text"
      },
      "source": [
        "## Pembuatan Struktur Data"
      ]
    },
    {
      "cell_type": "code",
      "metadata": {
        "colab_type": "code",
        "id": "DQJ-F09PKsz2",
        "colab": {
          "base_uri": "https://localhost:8080/",
          "height": 51
        },
        "outputId": "e41c48ff-61f6-4245-d772-2482c0b171dc"
      },
      "source": [
        "# Membuat data struktur dengan 60 selisih waktu and 1 output\n",
        "X_train = []\n",
        "y_train = []\n",
        "for i in range(60, 10953):\n",
        "    X_train.append(training_set_scaled[i-60:i, 0])  # Struktur untuk X_train\n",
        "    y_train.append(training_set_scaled[i, 0])       # Struktur untuk y_train\n",
        "X_train, y_train = np.array(X_train), np.array(y_train)\n",
        "print(len(X_train))\n",
        "print(len(y_train))"
      ],
      "execution_count": null,
      "outputs": [
        {
          "output_type": "stream",
          "text": [
            "10893\n",
            "10893\n"
          ],
          "name": "stdout"
        }
      ]
    },
    {
      "cell_type": "code",
      "metadata": {
        "colab_type": "code",
        "id": "kJt-xWaBKs0a",
        "colab": {
          "base_uri": "https://localhost:8080/",
          "height": 850
        },
        "outputId": "e0c57400-9e24-43a4-c710-3fb6bea4303e"
      },
      "source": [
        "# Reshaping data ke nilai 0 sampai 1\n",
        "X_train = np.reshape(X_train, (X_train.shape[0], X_train.shape[1], 1))\n",
        "X_train"
      ],
      "execution_count": null,
      "outputs": [
        {
          "output_type": "execute_result",
          "data": {
            "text/plain": [
              "array([[[0.00625917],\n",
              "        [0.00642461],\n",
              "        [0.00669584],\n",
              "        ...,\n",
              "        [0.00296244],\n",
              "        [0.00282551],\n",
              "        [0.00285163]],\n",
              "\n",
              "       [[0.00642461],\n",
              "        [0.00669584],\n",
              "        [0.00701667],\n",
              "        ...,\n",
              "        [0.00282551],\n",
              "        [0.00285163],\n",
              "        [0.00274292]],\n",
              "\n",
              "       [[0.00669584],\n",
              "        [0.00701667],\n",
              "        [0.00707234],\n",
              "        ...,\n",
              "        [0.00285163],\n",
              "        [0.00274292],\n",
              "        [0.00353287]],\n",
              "\n",
              "       ...,\n",
              "\n",
              "       [[0.18462339],\n",
              "        [0.18265009],\n",
              "        [0.19298064],\n",
              "        ...,\n",
              "        [0.24025809],\n",
              "        [0.23466065],\n",
              "        [0.22915501]],\n",
              "\n",
              "       [[0.18265009],\n",
              "        [0.19298064],\n",
              "        [0.19733435],\n",
              "        ...,\n",
              "        [0.23466065],\n",
              "        [0.22915501],\n",
              "        [0.23107103]],\n",
              "\n",
              "       [[0.19298064],\n",
              "        [0.19733435],\n",
              "        [0.19550141],\n",
              "        ...,\n",
              "        [0.22915501],\n",
              "        [0.23107103],\n",
              "        [0.23053015]]])"
            ]
          },
          "metadata": {
            "tags": []
          },
          "execution_count": 26
        }
      ]
    },
    {
      "cell_type": "code",
      "metadata": {
        "colab_type": "code",
        "id": "zcnK_pymKs16",
        "colab": {
          "base_uri": "https://localhost:8080/",
          "height": 34
        },
        "outputId": "7d6a91b7-5de5-4b6e-aac4-a4549ee7eb1c"
      },
      "source": [
        "len(X_train)"
      ],
      "execution_count": null,
      "outputs": [
        {
          "output_type": "execute_result",
          "data": {
            "text/plain": [
              "10893"
            ]
          },
          "metadata": {
            "tags": []
          },
          "execution_count": 27
        }
      ]
    },
    {
      "cell_type": "markdown",
      "metadata": {
        "id": "76OXErujpvh_",
        "colab_type": "text"
      },
      "source": [
        "# Pembuatan Model LSTM"
      ]
    },
    {
      "cell_type": "code",
      "metadata": {
        "id": "Q02360PGfx9Q",
        "colab_type": "code",
        "colab": {}
      },
      "source": [
        "# Membuat kelas dan fungsi agar proses training berhenti saat Koefisien Determinasi model telah mencapai 98%\n",
        "class myCallBack(tf.keras.callbacks.Callback):\n",
        "  def on_epoch_end(self, epoch, logs={}):\n",
        "    if(logs.get('r2_keras') >= 0.98):\n",
        "      print(\"\\nKoefisien Determinasi telah mencapai > 98%!\")\n",
        "      self.model.stop_training = True\n",
        "myCallBack = myCallBack()"
      ],
      "execution_count": null,
      "outputs": []
    },
    {
      "cell_type": "code",
      "metadata": {
        "id": "3XyiOxZ0gIPk",
        "colab_type": "code",
        "colab": {
          "base_uri": "https://localhost:8080/",
          "height": 34
        },
        "outputId": "28563945-6738-4f0f-cdef-e18a0aa0668a"
      },
      "source": [
        "# Fungsi untuk menyimpan model\n",
        "save_direc = os.path.join(os.getcwd(), '/content/sample_data')\n",
        "\n",
        "model_name = 'Nikkei-LSTM_weight_model.h5'\n",
        "\n",
        "# Membuat directory untuk menyimpan model\n",
        "if not os.path.isdir(save_direc):\n",
        "    os.makedirs(save_direc)\n",
        "\n",
        "# Menggabungkan directory dengan model\n",
        "modelpath = os.path.join(save_direc, model_name)\n",
        "\n",
        "checkpoint = ModelCheckpoint(filepath = modelpath, monitor = 'mae', verbose = 1, save_best_only = True, \n",
        "                             save_weights_only = True, period=1)"
      ],
      "execution_count": null,
      "outputs": [
        {
          "output_type": "stream",
          "text": [
            "WARNING:tensorflow:`period` argument is deprecated. Please use `save_freq` to specify the frequency in number of batches seen.\n"
          ],
          "name": "stdout"
        }
      ]
    },
    {
      "cell_type": "markdown",
      "metadata": {
        "id": "-ASNjqUeuKTF",
        "colab_type": "text"
      },
      "source": [
        " Koefisien determinasi digunakan sebagai informasi mengenai kecocokan suatu model dan dihitung untuk mengetahui sejauh mana kecocokan sejumlah variabel bebas yang ada dalam sebuah model persamaan regresi linier berganda secara berbarengan mampu menjelaskan variabel tidak bebasnya.\n",
        "\n",
        "Nilai koefisien determinasi sendiri berada di rentang nol sampai satu. Suatu nilai ini bisa dikatakan ‘baik’ jika ia berada di atas angka 0,5, sebaliknya suatu nilai koefisien determinasi dibilang ‘tidak baik’ jika di bawah 0,5."
      ]
    },
    {
      "cell_type": "code",
      "metadata": {
        "colab_type": "code",
        "id": "vDF8yANTKs2r",
        "colab": {}
      },
      "source": [
        "# Membuat fungsi untuk koefisien determinasi yang akan digunakan ke dalam model\n",
        "def r2_keras(y_true, y_pred):\n",
        "    SS_res =  K.sum(K.square( y_true - y_pred ))\n",
        "    SS_tot = K.sum(K.square( y_true - K.mean(y_true) ) )\n",
        "    return ( 1 - SS_res/(SS_tot + K.epsilon()) )"
      ],
      "execution_count": null,
      "outputs": []
    },
    {
      "cell_type": "markdown",
      "metadata": {
        "id": "ZNN9Kzf4vNXg",
        "colab_type": "text"
      },
      "source": [
        "Arsitektur model menggunakan 4 layer LSTM dengan dimensi sebesar 50 pada masing-masing layer, serta 0.2/20% dropout pada setiap layer LSTM agar model tidak overfitting."
      ]
    },
    {
      "cell_type": "code",
      "metadata": {
        "id": "BYKAlPyXJdqX",
        "colab_type": "code",
        "colab": {
          "base_uri": "https://localhost:8080/",
          "height": 459
        },
        "outputId": "ad7a8695-840c-4df6-c448-919c6cde6a64"
      },
      "source": [
        "model = tf.keras.models.Sequential([\n",
        "  tf.keras.layers.LSTM(50, return_sequences=True, input_shape = (X_train.shape[1], 1)), # Menambahkan layer LSTM pertama\n",
        "  tf.keras.layers.Dropout(0.2), # Menggunakan dropout agar model tidak overfitting\n",
        "  tf.keras.layers.LSTM(50, return_sequences=True), # Menambahkan layer LSTM kedua\n",
        "  tf.keras.layers.Dropout(0.2), # Menggunakan dropout agar model tidak overfitting\n",
        "  tf.keras.layers.LSTM(50, return_sequences=True), # Menambahkan layer LSTM ketiga\n",
        "  tf.keras.layers.Dropout(0.2), # Menggunakan dropout agar model tidak overfitting\n",
        "  tf.keras.layers.LSTM(50), # Menambahkan layer LSTM keempat\n",
        "  tf.keras.layers.Dropout(0.2), # Menggunakan dropout agar model tidak overfitting\n",
        "  tf.keras.layers.Dense(1), # Outputnya adalah 1 \n",
        "])\n",
        "model.summary() # Melihat shape dan parameter model"
      ],
      "execution_count": null,
      "outputs": [
        {
          "output_type": "stream",
          "text": [
            "Model: \"sequential\"\n",
            "_________________________________________________________________\n",
            "Layer (type)                 Output Shape              Param #   \n",
            "=================================================================\n",
            "lstm (LSTM)                  (None, 60, 50)            10400     \n",
            "_________________________________________________________________\n",
            "dropout (Dropout)            (None, 60, 50)            0         \n",
            "_________________________________________________________________\n",
            "lstm_1 (LSTM)                (None, 60, 50)            20200     \n",
            "_________________________________________________________________\n",
            "dropout_1 (Dropout)          (None, 60, 50)            0         \n",
            "_________________________________________________________________\n",
            "lstm_2 (LSTM)                (None, 60, 50)            20200     \n",
            "_________________________________________________________________\n",
            "dropout_2 (Dropout)          (None, 60, 50)            0         \n",
            "_________________________________________________________________\n",
            "lstm_3 (LSTM)                (None, 50)                20200     \n",
            "_________________________________________________________________\n",
            "dropout_3 (Dropout)          (None, 50)                0         \n",
            "_________________________________________________________________\n",
            "dense (Dense)                (None, 1)                 51        \n",
            "=================================================================\n",
            "Total params: 71,051\n",
            "Trainable params: 71,051\n",
            "Non-trainable params: 0\n",
            "_________________________________________________________________\n"
          ],
          "name": "stdout"
        }
      ]
    },
    {
      "cell_type": "code",
      "metadata": {
        "id": "auiEmW8fKmrP",
        "colab_type": "code",
        "colab": {}
      },
      "source": [
        "model.compile(loss='mean_squared_error', optimizer=RMSprop(learning_rate=0.001), # Menggunakan optimizer RMSprop dengan learning rate 0.001\n",
        "              metrics=[r2_keras, 'mae']) # Menggunakan metric r2 dan mae"
      ],
      "execution_count": null,
      "outputs": []
    },
    {
      "cell_type": "code",
      "metadata": {
        "id": "OBCAC19sLJA-",
        "colab_type": "code",
        "colab": {
          "base_uri": "https://localhost:8080/",
          "height": 1000
        },
        "outputId": "598e8956-dd85-40b5-d880-55d331386502"
      },
      "source": [
        "# Proses Training Model LSTM\n",
        "history = model.fit(X_train, y_train, epochs = 100, \n",
        "                    batch_size = 128, callbacks=[myCallBack, checkpoint], verbose = 1)"
      ],
      "execution_count": null,
      "outputs": [
        {
          "output_type": "stream",
          "text": [
            "Epoch 1/100\n",
            "86/86 [==============================] - ETA: 0s - loss: 0.0117 - r2_keras: 0.7554 - mae: 0.0676\n",
            "Epoch 00001: mae improved from inf to 0.06759, saving model to /content/sample_data/Nikkei-LSTM_weight_model.h5\n",
            "86/86 [==============================] - 19s 217ms/step - loss: 0.0117 - r2_keras: 0.7554 - mae: 0.0676\n",
            "Epoch 2/100\n",
            "86/86 [==============================] - ETA: 0s - loss: 0.0041 - r2_keras: 0.9132 - mae: 0.0441\n",
            "Epoch 00002: mae improved from 0.06759 to 0.04409, saving model to /content/sample_data/Nikkei-LSTM_weight_model.h5\n",
            "86/86 [==============================] - 20s 232ms/step - loss: 0.0041 - r2_keras: 0.9132 - mae: 0.0441\n",
            "Epoch 3/100\n",
            "86/86 [==============================] - ETA: 0s - loss: 0.0030 - r2_keras: 0.9344 - mae: 0.0376\n",
            "Epoch 00003: mae improved from 0.04409 to 0.03756, saving model to /content/sample_data/Nikkei-LSTM_weight_model.h5\n",
            "86/86 [==============================] - 20s 229ms/step - loss: 0.0030 - r2_keras: 0.9344 - mae: 0.0376\n",
            "Epoch 4/100\n",
            "86/86 [==============================] - ETA: 0s - loss: 0.0024 - r2_keras: 0.9480 - mae: 0.0333\n",
            "Epoch 00004: mae improved from 0.03756 to 0.03333, saving model to /content/sample_data/Nikkei-LSTM_weight_model.h5\n",
            "86/86 [==============================] - 20s 232ms/step - loss: 0.0024 - r2_keras: 0.9480 - mae: 0.0333\n",
            "Epoch 5/100\n",
            "86/86 [==============================] - ETA: 0s - loss: 0.0022 - r2_keras: 0.9539 - mae: 0.0311\n",
            "Epoch 00005: mae improved from 0.03333 to 0.03105, saving model to /content/sample_data/Nikkei-LSTM_weight_model.h5\n",
            "86/86 [==============================] - 20s 230ms/step - loss: 0.0022 - r2_keras: 0.9539 - mae: 0.0311\n",
            "Epoch 6/100\n",
            "86/86 [==============================] - ETA: 0s - loss: 0.0020 - r2_keras: 0.9575 - mae: 0.0305\n",
            "Epoch 00006: mae improved from 0.03105 to 0.03048, saving model to /content/sample_data/Nikkei-LSTM_weight_model.h5\n",
            "86/86 [==============================] - 20s 231ms/step - loss: 0.0020 - r2_keras: 0.9575 - mae: 0.0305\n",
            "Epoch 7/100\n",
            "86/86 [==============================] - ETA: 0s - loss: 0.0017 - r2_keras: 0.9648 - mae: 0.0283\n",
            "Epoch 00007: mae improved from 0.03048 to 0.02833, saving model to /content/sample_data/Nikkei-LSTM_weight_model.h5\n",
            "86/86 [==============================] - 20s 235ms/step - loss: 0.0017 - r2_keras: 0.9648 - mae: 0.0283\n",
            "Epoch 8/100\n",
            "86/86 [==============================] - ETA: 0s - loss: 0.0017 - r2_keras: 0.9657 - mae: 0.0278\n",
            "Epoch 00008: mae improved from 0.02833 to 0.02784, saving model to /content/sample_data/Nikkei-LSTM_weight_model.h5\n",
            "86/86 [==============================] - 20s 230ms/step - loss: 0.0017 - r2_keras: 0.9657 - mae: 0.0278\n",
            "Epoch 9/100\n",
            "86/86 [==============================] - ETA: 0s - loss: 0.0015 - r2_keras: 0.9677 - mae: 0.0272\n",
            "Epoch 00009: mae improved from 0.02784 to 0.02718, saving model to /content/sample_data/Nikkei-LSTM_weight_model.h5\n",
            "86/86 [==============================] - 20s 228ms/step - loss: 0.0015 - r2_keras: 0.9677 - mae: 0.0272\n",
            "Epoch 10/100\n",
            "86/86 [==============================] - ETA: 0s - loss: 0.0014 - r2_keras: 0.9698 - mae: 0.0267\n",
            "Epoch 00010: mae improved from 0.02718 to 0.02666, saving model to /content/sample_data/Nikkei-LSTM_weight_model.h5\n",
            "86/86 [==============================] - 20s 232ms/step - loss: 0.0014 - r2_keras: 0.9698 - mae: 0.0267\n",
            "Epoch 11/100\n",
            "86/86 [==============================] - ETA: 0s - loss: 0.0013 - r2_keras: 0.9717 - mae: 0.0259\n",
            "Epoch 00011: mae improved from 0.02666 to 0.02588, saving model to /content/sample_data/Nikkei-LSTM_weight_model.h5\n",
            "86/86 [==============================] - 20s 236ms/step - loss: 0.0013 - r2_keras: 0.9717 - mae: 0.0259\n",
            "Epoch 12/100\n",
            "86/86 [==============================] - ETA: 0s - loss: 0.0013 - r2_keras: 0.9727 - mae: 0.0256\n",
            "Epoch 00012: mae improved from 0.02588 to 0.02563, saving model to /content/sample_data/Nikkei-LSTM_weight_model.h5\n",
            "86/86 [==============================] - 19s 225ms/step - loss: 0.0013 - r2_keras: 0.9727 - mae: 0.0256\n",
            "Epoch 13/100\n",
            "86/86 [==============================] - ETA: 0s - loss: 0.0012 - r2_keras: 0.9738 - mae: 0.0247\n",
            "Epoch 00013: mae improved from 0.02563 to 0.02473, saving model to /content/sample_data/Nikkei-LSTM_weight_model.h5\n",
            "86/86 [==============================] - 19s 227ms/step - loss: 0.0012 - r2_keras: 0.9738 - mae: 0.0247\n",
            "Epoch 14/100\n",
            "86/86 [==============================] - ETA: 0s - loss: 0.0012 - r2_keras: 0.9753 - mae: 0.0242\n",
            "Epoch 00014: mae improved from 0.02473 to 0.02425, saving model to /content/sample_data/Nikkei-LSTM_weight_model.h5\n",
            "86/86 [==============================] - 19s 227ms/step - loss: 0.0012 - r2_keras: 0.9753 - mae: 0.0242\n",
            "Epoch 15/100\n",
            "86/86 [==============================] - ETA: 0s - loss: 0.0011 - r2_keras: 0.9761 - mae: 0.0241\n",
            "Epoch 00015: mae improved from 0.02425 to 0.02413, saving model to /content/sample_data/Nikkei-LSTM_weight_model.h5\n",
            "86/86 [==============================] - 20s 228ms/step - loss: 0.0011 - r2_keras: 0.9761 - mae: 0.0241\n",
            "Epoch 16/100\n",
            "86/86 [==============================] - ETA: 0s - loss: 0.0011 - r2_keras: 0.9756 - mae: 0.0240\n",
            "Epoch 00016: mae improved from 0.02413 to 0.02399, saving model to /content/sample_data/Nikkei-LSTM_weight_model.h5\n",
            "86/86 [==============================] - 20s 229ms/step - loss: 0.0011 - r2_keras: 0.9756 - mae: 0.0240\n",
            "Epoch 17/100\n",
            "86/86 [==============================] - ETA: 0s - loss: 0.0011 - r2_keras: 0.9764 - mae: 0.0234\n",
            "Epoch 00017: mae improved from 0.02399 to 0.02343, saving model to /content/sample_data/Nikkei-LSTM_weight_model.h5\n",
            "86/86 [==============================] - 19s 224ms/step - loss: 0.0011 - r2_keras: 0.9764 - mae: 0.0234\n",
            "Epoch 18/100\n",
            "86/86 [==============================] - ETA: 0s - loss: 0.0011 - r2_keras: 0.9769 - mae: 0.0233\n",
            "Epoch 00018: mae improved from 0.02343 to 0.02334, saving model to /content/sample_data/Nikkei-LSTM_weight_model.h5\n",
            "86/86 [==============================] - 19s 226ms/step - loss: 0.0011 - r2_keras: 0.9769 - mae: 0.0233\n",
            "Epoch 19/100\n",
            "86/86 [==============================] - ETA: 0s - loss: 0.0010 - r2_keras: 0.9783 - mae: 0.0228\n",
            "Epoch 00019: mae improved from 0.02334 to 0.02277, saving model to /content/sample_data/Nikkei-LSTM_weight_model.h5\n",
            "86/86 [==============================] - 19s 226ms/step - loss: 0.0010 - r2_keras: 0.9783 - mae: 0.0228\n",
            "Epoch 20/100\n",
            "86/86 [==============================] - ETA: 0s - loss: 9.8917e-04 - r2_keras: 0.9786 - mae: 0.0224\n",
            "Epoch 00020: mae improved from 0.02277 to 0.02238, saving model to /content/sample_data/Nikkei-LSTM_weight_model.h5\n",
            "86/86 [==============================] - 20s 235ms/step - loss: 9.8917e-04 - r2_keras: 0.9786 - mae: 0.0224\n",
            "Epoch 21/100\n",
            "86/86 [==============================] - ETA: 0s - loss: 9.8503e-04 - r2_keras: 0.9793 - mae: 0.0224\n",
            "Epoch 00021: mae did not improve from 0.02238\n",
            "86/86 [==============================] - 20s 233ms/step - loss: 9.8503e-04 - r2_keras: 0.9793 - mae: 0.0224\n",
            "Epoch 22/100\n",
            "86/86 [==============================] - ETA: 0s - loss: 9.3957e-04 - r2_keras: 0.9798 - mae: 0.0220\n",
            "Epoch 00022: mae improved from 0.02238 to 0.02197, saving model to /content/sample_data/Nikkei-LSTM_weight_model.h5\n",
            "86/86 [==============================] - 20s 237ms/step - loss: 9.3957e-04 - r2_keras: 0.9798 - mae: 0.0220\n",
            "Epoch 23/100\n",
            "86/86 [==============================] - ETA: 0s - loss: 9.3935e-04 - r2_keras: 0.9802 - mae: 0.0216\n",
            "Koefisien Determinasi telah mencapai > 98%!\n",
            "\n",
            "Epoch 00023: mae improved from 0.02197 to 0.02165, saving model to /content/sample_data/Nikkei-LSTM_weight_model.h5\n",
            "86/86 [==============================] - 20s 232ms/step - loss: 9.3935e-04 - r2_keras: 0.9802 - mae: 0.0216\n"
          ],
          "name": "stdout"
        }
      ]
    },
    {
      "cell_type": "code",
      "metadata": {
        "id": "NBFLSueTeRxz",
        "colab_type": "code",
        "colab": {
          "base_uri": "https://localhost:8080/",
          "height": 301
        },
        "outputId": "339e9787-ceda-4103-ff55-6a3b027de342"
      },
      "source": [
        "# Menampilkan plot loss dari model\n",
        "plt.plot(history.history['loss'])\n",
        "plt.title('Model Loss')\n",
        "plt.ylabel('Loss')\n",
        "plt.xlabel('Epochs')\n",
        "plt.legend('loss')\n",
        "plt.show()"
      ],
      "execution_count": null,
      "outputs": [
        {
          "output_type": "display_data",
          "data": {
            "image/png": "[encoded data removed]",
            "text/plain": [
              "<Figure size 432x288 with 1 Axes>"
            ]
          },
          "metadata": {
            "tags": []
          }
        }
      ]
    },
    {
      "cell_type": "code",
      "metadata": {
        "id": "lc31ts4keroM",
        "colab_type": "code",
        "colab": {
          "base_uri": "https://localhost:8080/",
          "height": 301
        },
        "outputId": "3a0d25dd-d90a-4cfc-f670-797592cb4196"
      },
      "source": [
        "# Menampilkan plot mae dari model\n",
        "plt.plot(history.history['mae'])\n",
        "plt.title('Model MAE')\n",
        "plt.ylabel('MAE')\n",
        "plt.xlabel('Epochs')\n",
        "plt.legend('mae')\n",
        "plt.show()"
      ],
      "execution_count": null,
      "outputs": [
        {
          "output_type": "display_data",
          "data": {
            "image/png": "[encoded data removed]",
            "text/plain": [
              "<Figure size 432x288 with 1 Axes>"
            ]
          },
          "metadata": {
            "tags": []
          }
        }
      ]
    },
    {
      "cell_type": "markdown",
      "metadata": {
        "id": "-eWuE7NBqNXp",
        "colab_type": "text"
      },
      "source": [
        "# Prediksi Model LSTM"
      ]
    },
    {
      "cell_type": "markdown",
      "metadata": {
        "id": "-F-3lVjowfo5",
        "colab_type": "text"
      },
      "source": [
        "Untuk membuktikan model LSTM bagus atau tidak, maka saya berinsiatif untuk melakukan prediksi terhadap data test dan train\n",
        "\n"
      ]
    },
    {
      "cell_type": "code",
      "metadata": {
        "colab_type": "code",
        "id": "5A4cNgoWKs6Z",
        "colab": {}
      },
      "source": [
        "# Melakukan duplikasi pada Dataset test dan train dan mengubah menjadi numpy array \n",
        "dataset_test = df_test.copy()\n",
        "dataset_train = df_train.copy()\n",
        "real_stock_price = dataset_test.iloc[:, 1:2].values\n",
        "real_stock_price1 = dataset_train.iloc[60:, 1:2].values"
      ],
      "execution_count": null,
      "outputs": []
    },
    {
      "cell_type": "code",
      "metadata": {
        "colab_type": "code",
        "id": "W8nqrHOaKs6w",
        "colab": {
          "base_uri": "https://localhost:8080/",
          "height": 68
        },
        "outputId": "88be21df-8517-4ed7-e2d2-f0ffceea8761"
      },
      "source": [
        "dataset_total = pd.concat((df_train['Open'], dataset_test['Open']), axis = 0)\n",
        "inputs = dataset_total[len(dataset_total) - len(dataset_test) - 60:].values\n",
        "inputs = inputs.reshape(-1,1)\n",
        "inputs = sc.transform(inputs)\n",
        "\n",
        "print('Panjang data total :', len(dataset_total))\n",
        "print('Panjang data test :', len(dataset_test))\n",
        "print('Panjang data train :', len(df_train))"
      ],
      "execution_count": null,
      "outputs": [
        {
          "output_type": "stream",
          "text": [
            "Panjang data total : 13692\n",
            "Panjang data test : 2739\n",
            "Panjang data train : 10953\n"
          ],
          "name": "stdout"
        }
      ]
    },
    {
      "cell_type": "code",
      "metadata": {
        "id": "iAhE6TX1jRm5",
        "colab_type": "code",
        "colab": {
          "base_uri": "https://localhost:8080/",
          "height": 51
        },
        "outputId": "ff72af9c-8ec8-40ad-b52b-a57fa45fb479"
      },
      "source": [
        "inputs1 = df_train.Open.values\n",
        "inputs1 = inputs1.reshape(-1,1)\n",
        "inputs1 = sc.transform(inputs1)\n",
        "\n",
        "print(len(inputs))\n",
        "print(len(inputs1))"
      ],
      "execution_count": null,
      "outputs": [
        {
          "output_type": "stream",
          "text": [
            "2799\n",
            "10953\n"
          ],
          "name": "stdout"
        }
      ]
    },
    {
      "cell_type": "markdown",
      "metadata": {
        "id": "deuWSAlZxqgl",
        "colab_type": "text"
      },
      "source": [
        "Memasukkan nilai dari data test ke dalam X_test dan data train ke dalam X_test1 lalu mereshape nilai tersebut ke dalam nilai dari 0 sampai 1"
      ]
    },
    {
      "cell_type": "code",
      "metadata": {
        "colab_type": "code",
        "id": "YW790jM1Ks7r",
        "colab": {
          "base_uri": "https://localhost:8080/",
          "height": 51
        },
        "outputId": "10897227-0181-44ad-ef3f-06a4b8670d71"
      },
      "source": [
        "X_test = []\n",
        "for i in range(60, 2799):\n",
        "    X_test.append(inputs[i-60:i, 0])\n",
        "X_test = np.array(X_test)\n",
        "X_test = np.reshape(X_test, (X_test.shape[0], X_test.shape[1], 1))\n",
        "\n",
        "X_test1 = []\n",
        "for i in range(60,10953):\n",
        "    X_test1.append(inputs1[i-60:i, 0])\n",
        "X_test1 = np.array(X_test1)\n",
        "X_test1 = np.reshape(X_test1, (X_test1.shape[0], X_test1.shape[1], 1))\n",
        "\n",
        "print(len(X_test))\n",
        "print(len(X_test1))"
      ],
      "execution_count": null,
      "outputs": [
        {
          "output_type": "stream",
          "text": [
            "2739\n",
            "10893\n"
          ],
          "name": "stdout"
        }
      ]
    },
    {
      "cell_type": "code",
      "metadata": {
        "colab_type": "code",
        "id": "j3r508B_Ks9D",
        "colab": {
          "base_uri": "https://localhost:8080/",
          "height": 136
        },
        "outputId": "c9558f0a-7d05-453a-98fd-66d31cfc434b"
      },
      "source": [
        "# Menggunakan model untuk memprediksi nilai data test\n",
        "predicted_stock_price = model.predict(X_test)\n",
        "predicted_stock_price = sc.inverse_transform(predicted_stock_price)\n",
        "predicted_stock_price"
      ],
      "execution_count": null,
      "outputs": [
        {
          "output_type": "execute_result",
          "data": {
            "text/plain": [
              "array([[10041.469],\n",
              "       [ 9998.92 ],\n",
              "       [ 9957.626],\n",
              "       ...,\n",
              "       [24144.854],\n",
              "       [24163.033],\n",
              "       [24180.346]], dtype=float32)"
            ]
          },
          "metadata": {
            "tags": []
          },
          "execution_count": 40
        }
      ]
    },
    {
      "cell_type": "code",
      "metadata": {
        "id": "vfyLsGMllMDY",
        "colab_type": "code",
        "colab": {
          "base_uri": "https://localhost:8080/",
          "height": 136
        },
        "outputId": "cae2c3e5-6072-45f8-d488-5e7ccbd18452"
      },
      "source": [
        "# Menggunakan model untuk memprediksi nilai data train\n",
        "predicted_stock_price1 = model.predict(X_test1)\n",
        "predicted_stock_price1 = sc.inverse_transform(predicted_stock_price1)\n",
        "predicted_stock_price1"
      ],
      "execution_count": null,
      "outputs": [
        {
          "output_type": "execute_result",
          "data": {
            "text/plain": [
              "array([[  860.25934],\n",
              "       [  853.1878 ],\n",
              "       [  847.50116],\n",
              "       ...,\n",
              "       [10115.993  ],\n",
              "       [10110.558  ],\n",
              "       [10082.107  ]], dtype=float32)"
            ]
          },
          "metadata": {
            "tags": []
          },
          "execution_count": 41
        }
      ]
    },
    {
      "cell_type": "code",
      "metadata": {
        "colab_type": "code",
        "id": "UgvTT9H1QcEB",
        "colab": {
          "base_uri": "https://localhost:8080/",
          "height": 51
        },
        "outputId": "e3371af5-61e3-4a81-870a-b7325657d533"
      },
      "source": [
        "print('Dimensi real data test :', real_stock_price.shape)\n",
        "print('Dimensi prediksi data test :', predicted_stock_price.shape)"
      ],
      "execution_count": null,
      "outputs": [
        {
          "output_type": "stream",
          "text": [
            "Dimensi real data test : (2739, 1)\n",
            "Dimensi prediksi data test : (2739, 1)\n"
          ],
          "name": "stdout"
        }
      ]
    },
    {
      "cell_type": "code",
      "metadata": {
        "colab_type": "code",
        "id": "QZS6NGKUQmnn",
        "colab": {
          "base_uri": "https://localhost:8080/",
          "height": 51
        },
        "outputId": "74b591dc-dcb7-4310-ba66-dc25acae0845"
      },
      "source": [
        "print('Dimensi real data train :', real_stock_price1.shape)\n",
        "print('Dimensi prediksi data train :', predicted_stock_price1.shape)"
      ],
      "execution_count": null,
      "outputs": [
        {
          "output_type": "stream",
          "text": [
            "Dimensi real data train : (10893, 1)\n",
            "Dimensi prediksi data train : (10893, 1)\n"
          ],
          "name": "stdout"
        }
      ]
    },
    {
      "cell_type": "code",
      "metadata": {
        "colab_type": "code",
        "id": "9lGhkdSZq7QA",
        "colab": {
          "base_uri": "https://localhost:8080/",
          "height": 204
        },
        "outputId": "8ea4d4ae-10af-4243-c303-8c9facfa02e8"
      },
      "source": [
        "# Memasukkan nilai asli data test dan prediksinya ke dalam dataframe\n",
        "pred = pd.DataFrame(list(zip(predicted_stock_price,real_stock_price)), \n",
        "                  columns = ('Predict','Real'))\n",
        "pred.head()"
      ],
      "execution_count": null,
      "outputs": [
        {
          "output_type": "execute_result",
          "data": {
            "text/html": [
              "<div>\n",
              "<style scoped>\n",
              "    .dataframe tbody tr th:only-of-type {\n",
              "        vertical-align: middle;\n",
              "    }\n",
              "\n",
              "    .dataframe tbody tr th {\n",
              "        vertical-align: top;\n",
              "    }\n",
              "\n",
              "    .dataframe thead th {\n",
              "        text-align: right;\n",
              "    }\n",
              "</style>\n",
              "<table border=\"1\" class=\"dataframe\">\n",
              "  <thead>\n",
              "    <tr style=\"text-align: right;\">\n",
              "      <th></th>\n",
              "      <th>Predict</th>\n",
              "      <th>Real</th>\n",
              "    </tr>\n",
              "  </thead>\n",
              "  <tbody>\n",
              "    <tr>\n",
              "      <th>0</th>\n",
              "      <td>[10041.469]</td>\n",
              "      <td>[9788.070313]</td>\n",
              "    </tr>\n",
              "    <tr>\n",
              "      <th>1</th>\n",
              "      <td>[9998.92]</td>\n",
              "      <td>[9695.759766]</td>\n",
              "    </tr>\n",
              "    <tr>\n",
              "      <th>2</th>\n",
              "      <td>[9957.626]</td>\n",
              "      <td>[9596.780273]</td>\n",
              "    </tr>\n",
              "    <tr>\n",
              "      <th>3</th>\n",
              "      <td>[9915.323]</td>\n",
              "      <td>[9628.179688]</td>\n",
              "    </tr>\n",
              "    <tr>\n",
              "      <th>4</th>\n",
              "      <td>[9873.623]</td>\n",
              "      <td>[9852.919922]</td>\n",
              "    </tr>\n",
              "  </tbody>\n",
              "</table>\n",
              "</div>"
            ],
            "text/plain": [
              "       Predict           Real\n",
              "0  [10041.469]  [9788.070313]\n",
              "1    [9998.92]  [9695.759766]\n",
              "2   [9957.626]  [9596.780273]\n",
              "3   [9915.323]  [9628.179688]\n",
              "4   [9873.623]  [9852.919922]"
            ]
          },
          "metadata": {
            "tags": []
          },
          "execution_count": 44
        }
      ]
    },
    {
      "cell_type": "code",
      "metadata": {
        "id": "TS2oaJsMopUr",
        "colab_type": "code",
        "colab": {
          "base_uri": "https://localhost:8080/",
          "height": 204
        },
        "outputId": "3253e286-910e-4556-a3b8-5d2947c54685"
      },
      "source": [
        "# Memasukkan nilai asli data train dan prediksinya ke dalam dataframe\n",
        "pred1 = pd.DataFrame(list(zip(predicted_stock_price1,real_stock_price1)), \n",
        "                  columns = ('Predict','Real'))\n",
        "pred1.head()"
      ],
      "execution_count": null,
      "outputs": [
        {
          "output_type": "execute_result",
          "data": {
            "text/html": [
              "<div>\n",
              "<style scoped>\n",
              "    .dataframe tbody tr th:only-of-type {\n",
              "        vertical-align: middle;\n",
              "    }\n",
              "\n",
              "    .dataframe tbody tr th {\n",
              "        vertical-align: top;\n",
              "    }\n",
              "\n",
              "    .dataframe thead th {\n",
              "        text-align: right;\n",
              "    }\n",
              "</style>\n",
              "<table border=\"1\" class=\"dataframe\">\n",
              "  <thead>\n",
              "    <tr style=\"text-align: right;\">\n",
              "      <th></th>\n",
              "      <th>Predict</th>\n",
              "      <th>Real</th>\n",
              "    </tr>\n",
              "  </thead>\n",
              "  <tbody>\n",
              "    <tr>\n",
              "      <th>0</th>\n",
              "      <td>[860.25934]</td>\n",
              "      <td>[1124.449951]</td>\n",
              "    </tr>\n",
              "    <tr>\n",
              "      <th>1</th>\n",
              "      <td>[853.1878]</td>\n",
              "      <td>[1154.390015]</td>\n",
              "    </tr>\n",
              "    <tr>\n",
              "      <th>2</th>\n",
              "      <td>[847.50116]</td>\n",
              "      <td>[1159.97998]</td>\n",
              "    </tr>\n",
              "    <tr>\n",
              "      <th>3</th>\n",
              "      <td>[844.71967]</td>\n",
              "      <td>[1183.119995]</td>\n",
              "    </tr>\n",
              "    <tr>\n",
              "      <th>4</th>\n",
              "      <td>[846.0525]</td>\n",
              "      <td>[1180.569946]</td>\n",
              "    </tr>\n",
              "  </tbody>\n",
              "</table>\n",
              "</div>"
            ],
            "text/plain": [
              "       Predict           Real\n",
              "0  [860.25934]  [1124.449951]\n",
              "1   [853.1878]  [1154.390015]\n",
              "2  [847.50116]   [1159.97998]\n",
              "3  [844.71967]  [1183.119995]\n",
              "4   [846.0525]  [1180.569946]"
            ]
          },
          "metadata": {
            "tags": []
          },
          "execution_count": 45
        }
      ]
    },
    {
      "cell_type": "markdown",
      "metadata": {
        "id": "_FDnJRe7qXrT",
        "colab_type": "text"
      },
      "source": [
        "# Evaluasi Model"
      ]
    },
    {
      "cell_type": "markdown",
      "metadata": {
        "id": "uHjLFly0zXnc",
        "colab_type": "text"
      },
      "source": [
        "Evaluasi model menggunakan Mean Absolute Error dan Mean Absolute Percentage Error"
      ]
    },
    {
      "cell_type": "code",
      "metadata": {
        "id": "bf4kr5Ntrdkj",
        "colab_type": "code",
        "colab": {}
      },
      "source": [
        "# Membuat fungsi untuk MAPE dan MAE\n",
        "def mape(y_true, y_pred):\n",
        "    y_true, y_pred = np.array(y_true), np.array(y_pred)\n",
        "    return np.mean(np.abs((y_true - y_pred) / y_true)) * 100\n",
        "\n",
        "def mae(y_true, y_pred):\n",
        "    y_true, y_pred = np.array(y_true), np.array(y_pred)\n",
        "    return np.mean(np.abs((y_true - y_pred) / y_true))"
      ],
      "execution_count": null,
      "outputs": []
    },
    {
      "cell_type": "code",
      "metadata": {
        "colab_type": "code",
        "id": "mlHeAdW6Ks-N",
        "colab": {
          "base_uri": "https://localhost:8080/",
          "height": 153
        },
        "outputId": "c65a5a33-8070-41bd-f73d-8122b92fc486"
      },
      "source": [
        "print('Nilai Koefisien Determinasi terhadap Data Test\\nR2: ',r2_score(predicted_stock_price,real_stock_price),'\\n')\n",
        "\n",
        "mape1 = mae(predicted_stock_price,real_stock_price)\n",
        "print('Nilai Mean Absolute Error Prediksi terhadap Data Test\\nMAPE: ' \"{:.2f}\".format(mape1),'\\n')\n",
        "\n",
        "mape2 = mape(predicted_stock_price,real_stock_price)\n",
        "print('Nilai Mean Absolute Percentage Error Prediksi terhadap Data Test\\nMAPE: ' \"{:.2f}\".format(mape2)+'%')"
      ],
      "execution_count": null,
      "outputs": [
        {
          "output_type": "stream",
          "text": [
            "Nilai Koefisien Determinasi terhadap Data Test\n",
            "R2:  0.9795908618621044 \n",
            "\n",
            "Nilai Mean Absolute Error Prediksi terhadap Data Test\n",
            "MAPE: 0.03 \n",
            "\n",
            "Nilai Mean Absolute Percentage Error Prediksi terhadap Data Test\n",
            "MAPE: 3.35%\n"
          ],
          "name": "stdout"
        }
      ]
    },
    {
      "cell_type": "code",
      "metadata": {
        "id": "g4nssxIwo3Vi",
        "colab_type": "code",
        "colab": {
          "base_uri": "https://localhost:8080/",
          "height": 153
        },
        "outputId": "e4a108a5-4623-44df-93f0-0236aa74fe3b"
      },
      "source": [
        "print('Nilai Koefisien Determinasi terhadap Data Train\\nR2: ',r2_score(predicted_stock_price1,real_stock_price1),'\\n')\n",
        "\n",
        "mape1 = mae(predicted_stock_price1,real_stock_price1)\n",
        "print('Nilai Mean Absolute Error Prediksi terhadap Data Train\\nMAPE: ' \"{:.2f}\".format(mape1),'\\n')\n",
        "\n",
        "mape2 = mape(predicted_stock_price1,real_stock_price1)\n",
        "print('Nilai Mean Percentage Error Prediksi terhadap Data Train\\nMAPE: ' \"{:.2f}\".format(mape2)+'%')"
      ],
      "execution_count": null,
      "outputs": [
        {
          "output_type": "stream",
          "text": [
            "Nilai Koefisien Determinasi terhadap Data Train\n",
            "R2:  0.9946406283025786 \n",
            "\n",
            "Nilai Mean Absolute Error Prediksi terhadap Data Train\n",
            "MAPE: 0.06 \n",
            "\n",
            "Nilai Mean Percentage Error Prediksi terhadap Data Train\n",
            "MAPE: 6.00%\n"
          ],
          "name": "stdout"
        }
      ]
    },
    {
      "cell_type": "markdown",
      "metadata": {
        "id": "einOAOMxqc5C",
        "colab_type": "text"
      },
      "source": [
        "# Visualisasi Hasil Prediksi Model"
      ]
    },
    {
      "cell_type": "markdown",
      "metadata": {
        "id": "YfH2plct1kst",
        "colab_type": "text"
      },
      "source": [
        "Membuat visualisasi dengan diagram pencar dan diagram garis untuk memudahkan pembaca untuk melihat hasil prediksi"
      ]
    },
    {
      "cell_type": "code",
      "metadata": {
        "colab_type": "code",
        "id": "LbYCE9_OKs-p",
        "colab": {
          "base_uri": "https://localhost:8080/",
          "height": 474
        },
        "outputId": "baa37fb9-38c4-4a9f-a999-2c472155b22c"
      },
      "source": [
        "# Membuat diagram pencar untuk memperlihatkan ke akuratan hasil prediksi dan nilai real pada dataset\n",
        "# Data prediksi vs data test\n",
        "\n",
        "plt.figure(figsize=(15,7))\n",
        "plt.scatter(x=predicted_stock_price,y=real_stock_price,s=3,color='limegreen')\n",
        "plt.xlabel('predictions',fontsize=18)\n",
        "plt.ylabel('real',fontsize=18)\n",
        "plt.title('Data prediksi vs data test',fontsize=20)\n",
        "plt.show()"
      ],
      "execution_count": null,
      "outputs": [
        {
          "output_type": "display_data",
          "data": {
            "image/png": "[encoded data removed]",
            "text/plain": [
              "<Figure size 1080x504 with 1 Axes>"
            ]
          },
          "metadata": {
            "tags": []
          }
        }
      ]
    },
    {
      "cell_type": "code",
      "metadata": {
        "id": "7TCTEawdruln",
        "colab_type": "code",
        "colab": {
          "base_uri": "https://localhost:8080/",
          "height": 474
        },
        "outputId": "6f090fb2-c362-4eb8-a4ae-343a4df0d840"
      },
      "source": [
        "# Membuat diagram pencar untuk memperlihatkan ke akuratan hasil prediksi dan nilai real pada dataset\n",
        "# Data prediksi vs data train\n",
        "\n",
        "plt.figure(figsize=(15,7))\n",
        "plt.scatter(x=predicted_stock_price1,y=real_stock_price1,s=3,color='limegreen')\n",
        "plt.xlabel('predictions',fontsize=18)\n",
        "plt.ylabel('real',fontsize=18)\n",
        "plt.title('Data prediksi vs data train',fontsize=20)\n",
        "plt.show()"
      ],
      "execution_count": null,
      "outputs": [
        {
          "output_type": "display_data",
          "data": {
            "image/png": "[encoded data removed]",
            "text/plain": [
              "<Figure size 1080x504 with 1 Axes>"
            ]
          },
          "metadata": {
            "tags": []
          }
        }
      ]
    },
    {
      "cell_type": "code",
      "metadata": {
        "colab_type": "code",
        "id": "c3fMA__YKs_F",
        "colab": {
          "base_uri": "https://localhost:8080/",
          "height": 466
        },
        "outputId": "88a40ae8-c4d6-4660-d70d-9d2ab2299a82"
      },
      "source": [
        "# Membuat diagram garis untuk memperlihatkan ke akuratan hasil prediksi dan nilai real pada dataset\n",
        "# Data prediksi vs data test\n",
        "\n",
        "plt.figure(figsize=(15,7))\n",
        "plt.plot(real_stock_price, color = 'palevioletred', label = 'Real Harga Index Nikkei 225')\n",
        "plt.plot(predicted_stock_price, color = 'limegreen', label = 'Prediksi Harga Index Nikkei 225')\n",
        "plt.title('Prediksi Index Nikkei 225 vs Data Test',fontsize = 16)\n",
        "plt.xlabel('Time')\n",
        "plt.ylabel('Nikkei 225 Stock Price')\n",
        "plt.legend()\n",
        "plt.show()"
      ],
      "execution_count": null,
      "outputs": [
        {
          "output_type": "display_data",
          "data": {
            "image/png": "[encoded data removed]",
            "text/plain": [
              "<Figure size 1080x504 with 1 Axes>"
            ]
          },
          "metadata": {
            "tags": []
          }
        }
      ]
    },
    {
      "cell_type": "code",
      "metadata": {
        "id": "iubtdt5MsaSz",
        "colab_type": "code",
        "colab": {
          "base_uri": "https://localhost:8080/",
          "height": 466
        },
        "outputId": "9c210665-8c67-4419-fcfc-a6c66667f721"
      },
      "source": [
        "# Membuat diagram garis untuk memperlihatkan ke akuratan hasil prediksi dan nilai real pada dataset\n",
        "# Data prediksi vs data train\n",
        "\n",
        "plt.figure(figsize=(15,7))\n",
        "plt.plot(real_stock_price1, color = 'palevioletred', label = 'Real Harga Index Nikkei 225')\n",
        "plt.plot(predicted_stock_price1, color = 'limegreen', label = 'Prediksi Harga Index Nikkei 225')\n",
        "plt.title('Prediksi Index Nikkei 225 vs Data Test',fontsize = 16)\n",
        "plt.xlabel('Time')\n",
        "plt.ylabel('Nikkei 225 Stock Price')\n",
        "plt.legend()\n",
        "plt.show()"
      ],
      "execution_count": null,
      "outputs": [
        {
          "output_type": "display_data",
          "data": {
            "image/png": "[encoded data removed]",
            "text/plain": [
              "<Figure size 1080x504 with 1 Axes>"
            ]
          },
          "metadata": {
            "tags": []
          }
        }
      ]
    }
  ]
}